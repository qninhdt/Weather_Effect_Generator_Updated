{
 "cells": [
  {
   "cell_type": "code",
   "execution_count": 344,
   "metadata": {},
   "outputs": [],
   "source": [
    "data = [\n",
    "    0.474,\n",
    "    0.482,\n",
    "    0.480,\n",
    "    0.482,\n",
    "    0.484,\n",
    "    0.476,\n",
    "    0.483,\n",
    "    0.478,\n",
    "    0.481,\n",
    "    0.476,\n",
    "    0.480,\n",
    "    0.834,\n",
    "    0.830,\n",
    "    0.840,\n",
    "    0.841,\n",
    "    0.832,\n",
    "    0.824,\n",
    "    0.820,\n",
    "    0.825,\n",
    "    0.820,\n",
    "    0.830,\n",
    "    0.814,\n",
    "    0.734,\n",
    "    0.741,\n",
    "    0.730,\n",
    "    0.730,\n",
    "    0.753,\n",
    "    0.747,\n",
    "    0.748,\n",
    "    0.738,\n",
    "    0.743,\n",
    "    0.731,\n",
    "    0.744,\n",
    "    0.506,\n",
    "    0.519,\n",
    "    0.515,\n",
    "    0.506,\n",
    "    0.523,\n",
    "    0.502,\n",
    "    0.515,\n",
    "    0.497,\n",
    "    0.508,\n",
    "    0.517,\n",
    "    0.521,\n",
    "    0.855,\n",
    "    0.832,\n",
    "    0.838,\n",
    "    0.838,\n",
    "    0.813,\n",
    "    0.785,\n",
    "    0.847,\n",
    "    0.836,\n",
    "    0.858,\n",
    "    0.809,\n",
    "    0.814,\n",
    "    0.704,\n",
    "    0.788,\n",
    "    0.775,\n",
    "    0.713,\n",
    "    0.770,\n",
    "    0.775,\n",
    "    0.755,\n",
    "    0.758,\n",
    "    0.762,\n",
    "    0.757,\n",
    "    0.784,\n",
    "    0.478,\n",
    "    0.506,\n",
    "    0.481,\n",
    "    0.469,\n",
    "    0.474,\n",
    "    0.452,\n",
    "    0.507,\n",
    "    0.476,\n",
    "    0.495,\n",
    "    0.488,\n",
    "    0.512,\n",
    "    0.763,\n",
    "    0.781,\n",
    "    0.848,\n",
    "    0.824,\n",
    "    0.750,\n",
    "    0.839,\n",
    "    0.768,\n",
    "    0.769,\n",
    "    0.830,\n",
    "    0.752,\n",
    "    0.737,\n",
    "    0.735,\n",
    "    0.758,\n",
    "    0.706,\n",
    "    0.713,\n",
    "    0.781,\n",
    "    0.705,\n",
    "    0.790,\n",
    "    0.714,\n",
    "    0.768,\n",
    "    0.830,\n",
    "    0.833,\n",
    "    0.472,\n",
    "    0.487,\n",
    "    0.489,\n",
    "    0.505,\n",
    "    0.509,\n",
    "    0.493,\n",
    "    0.496,\n",
    "    0.484,\n",
    "    0.488,\n",
    "    0.492,\n",
    "    0.498,\n",
    "    0.848,\n",
    "    0.800,\n",
    "    0.781,\n",
    "    0.809,\n",
    "    0.834,\n",
    "    0.798,\n",
    "    0.821,\n",
    "    0.845,\n",
    "    0.808,\n",
    "    0.829,\n",
    "    0.861,\n",
    "    0.690,\n",
    "    0.752,\n",
    "    0.750,\n",
    "    0.771,\n",
    "    0.776,\n",
    "    0.765,\n",
    "    0.749,\n",
    "    0.744,\n",
    "    0.757,\n",
    "    0.731,\n",
    "    0.730,\n",
    "]"
   ]
  },
  {
   "cell_type": "code",
   "execution_count": 345,
   "metadata": {},
   "outputs": [],
   "source": [
    "import numpy as np"
   ]
  },
  {
   "cell_type": "code",
   "execution_count": 346,
   "metadata": {},
   "outputs": [],
   "source": [
    "data = np.array(data)"
   ]
  },
  {
   "cell_type": "code",
   "execution_count": 347,
   "metadata": {},
   "outputs": [
    {
     "data": {
      "text/plain": [
       "(132,)"
      ]
     },
     "execution_count": 347,
     "metadata": {},
     "output_type": "execute_result"
    }
   ],
   "source": [
    "data.shape"
   ]
  },
  {
   "cell_type": "code",
   "execution_count": 348,
   "metadata": {},
   "outputs": [],
   "source": [
    "data = data.reshape(12, 11).transpose().reshape(11, 4, 3)"
   ]
  },
  {
   "cell_type": "code",
   "execution_count": 349,
   "metadata": {},
   "outputs": [],
   "source": [
    "# data[\n",
    "#     [\n",
    "#         0,\n",
    "#         1,\n",
    "#     ]\n",
    "# ] = 0"
   ]
  },
  {
   "cell_type": "code",
   "execution_count": 350,
   "metadata": {},
   "outputs": [],
   "source": [
    "temp = np.zeros_like(data)\n",
    "temp[[0, 5]] = data[[0, 5]]\n",
    "data = temp"
   ]
  },
  {
   "cell_type": "code",
   "execution_count": 351,
   "metadata": {},
   "outputs": [],
   "source": [
    "id2set = np.array([0, 0, 0, 1, 1, 2, 2, 3, 3, 4, 4, 5, 5])\n",
    "id2aug = np.array([0, 1, 2, 0, 1, 0, 1, 0, 1, 0, 1, 0, 1])"
   ]
  },
  {
   "cell_type": "code",
   "execution_count": 352,
   "metadata": {},
   "outputs": [],
   "source": [
    "best_set = id2set[np.argmax(data, axis=0).flatten()]\n",
    "best_aug = id2aug[np.argmax(data, axis=0).flatten()]"
   ]
  },
  {
   "cell_type": "code",
   "execution_count": 353,
   "metadata": {},
   "outputs": [
    {
     "data": {
      "text/plain": [
       "array([3, 1, 3, 1, 1, 3, 1, 3, 1, 3, 1, 3])"
      ]
     },
     "execution_count": 353,
     "metadata": {},
     "output_type": "execute_result"
    }
   ],
   "source": [
    "best_set + 1"
   ]
  },
  {
   "cell_type": "code",
   "execution_count": 354,
   "metadata": {},
   "outputs": [
    {
     "data": {
      "text/plain": [
       "array([1, 1, 1, 1, 1, 1, 1, 1, 1, 1, 1, 1])"
      ]
     },
     "execution_count": 354,
     "metadata": {},
     "output_type": "execute_result"
    }
   ],
   "source": [
    "best_aug + 1"
   ]
  }
 ],
 "metadata": {
  "kernelspec": {
   "display_name": "base",
   "language": "python",
   "name": "python3"
  },
  "language_info": {
   "codemirror_mode": {
    "name": "ipython",
    "version": 3
   },
   "file_extension": ".py",
   "mimetype": "text/x-python",
   "name": "python",
   "nbconvert_exporter": "python",
   "pygments_lexer": "ipython3",
   "version": "3.10.14"
  }
 },
 "nbformat": 4,
 "nbformat_minor": 2
}
